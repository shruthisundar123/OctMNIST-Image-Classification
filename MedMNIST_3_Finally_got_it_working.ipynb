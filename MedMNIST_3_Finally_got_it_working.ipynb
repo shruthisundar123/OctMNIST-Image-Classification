{
  "nbformat": 4,
  "nbformat_minor": 0,
  "metadata": {
    "colab": {
      "name": "MedMNIST 3 - Finally got it working.ipynb",
      "provenance": [],
      "authorship_tag": "ABX9TyPsY3yRg+5c3vxb0ZqyfotH",
      "include_colab_link": true
    },
    "kernelspec": {
      "name": "python3",
      "display_name": "Python 3"
    },
    "language_info": {
      "name": "python"
    },
    "accelerator": "GPU"
  },
  "cells": [
    {
      "cell_type": "markdown",
      "metadata": {
        "id": "view-in-github",
        "colab_type": "text"
      },
      "source": [
        "<a href=\"https://colab.research.google.com/github/shruthisundar123/OctMNIST-Image-Classification/blob/main/MedMNIST_3_Finally_got_it_working.ipynb\" target=\"_parent\"><img src=\"https://colab.research.google.com/assets/colab-badge.svg\" alt=\"Open In Colab\"/></a>"
      ]
    },
    {
      "cell_type": "markdown",
      "metadata": {
        "id": "u0W98XXoGtwN"
      },
      "source": [
        "##Imports and Loading"
      ]
    },
    {
      "cell_type": "code",
      "metadata": {
        "id": "pEU2mYhPoxdi"
      },
      "source": [
        "import numpy as np\n",
        "import tensorflow as tf\n",
        "from tensorflow import keras\n",
        "from skimage.transform import resize\n",
        "import tensorflow_datasets as tfds\n",
        "import matplotlib.pyplot as plt"
      ],
      "execution_count": null,
      "outputs": []
    },
    {
      "cell_type": "code",
      "metadata": {
        "colab": {
          "base_uri": "https://localhost:8080/"
        },
        "id": "t_MYgXWJEw24",
        "outputId": "900a4c55-142a-4b21-b95d-fdef6c065cf7"
      },
      "source": [
        "# from google.colab import drive\n",
        "# drive.mount('/content/drive')"
      ],
      "execution_count": null,
      "outputs": [
        {
          "output_type": "stream",
          "text": [
            "Mounted at /content/drive\n"
          ],
          "name": "stdout"
        }
      ]
    },
    {
      "cell_type": "code",
      "metadata": {
        "id": "o0FF6ohjpn2L",
        "colab": {
          "base_uri": "https://localhost:8080/"
        },
        "outputId": "edbdc977-fbca-483d-895a-1bec951f51f7"
      },
      "source": [
        "DATA_URL = 'https://zenodo.org/record/4269852/files/octmnist.npz?download=1'\n",
        "path = tf.keras.utils.get_file('octmnist.npz', DATA_URL)\n",
        "data = np.load(path)"
      ],
      "execution_count": null,
      "outputs": [
        {
          "output_type": "stream",
          "text": [
            "Downloading data from https://zenodo.org/record/4269852/files/octmnist.npz?download=1\n",
            "54943744/54938180 [==============================] - 4s 0us/step\n"
          ],
          "name": "stdout"
        }
      ]
    },
    {
      "cell_type": "code",
      "metadata": {
        "colab": {
          "base_uri": "https://localhost:8080/"
        },
        "id": "Gj_-FsuGFODu",
        "outputId": "05a6d184-a509-4f7f-9328-058ebb895744"
      },
      "source": [
        "print(data['train_images'].shape)"
      ],
      "execution_count": null,
      "outputs": [
        {
          "output_type": "stream",
          "text": [
            "(97477, 28, 28)\n"
          ],
          "name": "stdout"
        }
      ]
    },
    {
      "cell_type": "code",
      "metadata": {
        "id": "LRxkB1ZYNStg"
      },
      "source": [
        "train_images_rgb = np.repeat(data['train_images'][..., np.newaxis], 3, -1)\n",
        "val_images_rgb = np.repeat(data['val_images'][..., np.newaxis], 3, -1)\n",
        "test_images_rgb = np.repeat(data['test_images'][..., np.newaxis], 3, -1)"
      ],
      "execution_count": null,
      "outputs": []
    },
    {
      "cell_type": "code",
      "metadata": {
        "colab": {
          "base_uri": "https://localhost:8080/"
        },
        "id": "sCcgpGkCNl6G",
        "outputId": "4d1bdba2-ab5d-47ed-9736-7decc9e0ffa9"
      },
      "source": [
        "print(train_images_rgb.shape)\n",
        "print(val_images_rgb.shape)\n",
        "print(test_images_rgb.shape)"
      ],
      "execution_count": null,
      "outputs": [
        {
          "output_type": "stream",
          "text": [
            "(97477, 28, 28, 3)\n",
            "(10832, 28, 28, 3)\n",
            "(1000, 28, 28, 3)\n"
          ],
          "name": "stdout"
        }
      ]
    },
    {
      "cell_type": "code",
      "metadata": {
        "colab": {
          "base_uri": "https://localhost:8080/",
          "height": 661
        },
        "id": "aDnayfOJaRDi",
        "outputId": "129499f8-5004-4438-a401-a8eefc1cfcb8"
      },
      "source": [
        "plt.figure(figsize=(10,10))\n",
        "for i in range(9):\n",
        "  ax = plt.subplot(3, 3, i+1)\n",
        "  plt.imshow(train_images_rgb[i])\n",
        "  plt.title(data['train_labels'][i])"
      ],
      "execution_count": null,
      "outputs": [
        {
          "output_type": "stream",
          "text": [
            "/usr/local/lib/python3.7/dist-packages/matplotlib/text.py:1165: FutureWarning: elementwise comparison failed; returning scalar instead, but in the future will perform elementwise comparison\n",
            "  if s != self._text:\n"
          ],
          "name": "stderr"
        },
        {
          "output_type": "display_data",
          "data": {
            "image/png": "[encoded data removed]",
            "text/plain": [
              "<Figure size 720x720 with 9 Axes>"
            ]
          },
          "metadata": {
            "tags": [],
            "needs_background": "light"
          }
        }
      ]
    },
    {
      "cell_type": "code",
      "metadata": {
        "id": "3kcN6yj9FatN"
      },
      "source": [
        "# # one hot encoding labels\n",
        "# train_labels_oh = tf.one_hot(data['train_labels'], depth=4)\n",
        "# val_labels_oh = tf.one_hot(data['val_labels'], depth=4)\n",
        "# test_labels_oh = tf.one_hot(data['test_labels'], depth=4)\n",
        "# # didn't work - why?"
      ],
      "execution_count": null,
      "outputs": []
    },
    {
      "cell_type": "code",
      "metadata": {
        "id": "4AZa6QoERJcK"
      },
      "source": [
        "train_labels_oh = keras.utils.to_categorical(data['train_labels'], 4)\n",
        "val_labels_oh = keras.utils.to_categorical(data['val_labels'], 4)\n",
        "test_labels_oh = keras.utils.to_categorical(data['test_labels'], 4)"
      ],
      "execution_count": null,
      "outputs": []
    },
    {
      "cell_type": "code",
      "metadata": {
        "colab": {
          "base_uri": "https://localhost:8080/"
        },
        "id": "VSaBqAYdRXUS",
        "outputId": "6291fb45-d690-4cad-839c-67d3860cea32"
      },
      "source": [
        "print(data['train_labels'].shape)\n",
        "print(train_labels_oh.shape)"
      ],
      "execution_count": null,
      "outputs": [
        {
          "output_type": "stream",
          "text": [
            "(97477, 1)\n",
            "(97477, 4)\n"
          ],
          "name": "stdout"
        }
      ]
    },
    {
      "cell_type": "markdown",
      "metadata": {
        "id": "05m9tzdfHB9R"
      },
      "source": [
        "##Dataset"
      ]
    },
    {
      "cell_type": "code",
      "metadata": {
        "id": "LADUOujzFRtw"
      },
      "source": [
        "# creating datasets\n",
        "train_dataset = tf.data.Dataset.from_tensor_slices((train_images_rgb[0:5000], train_labels_oh[0:5000]))\n",
        "val_dataset = tf.data.Dataset.from_tensor_slices((val_images_rgb[0:5000], val_labels_oh[0:5000]))\n",
        "test_dataset = tf.data.Dataset.from_tensor_slices((test_images_rgb[0:1000], test_labels_oh[0:1000]))"
      ],
      "execution_count": null,
      "outputs": []
    },
    {
      "cell_type": "code",
      "metadata": {
        "id": "OSGBDbmusuqG"
      },
      "source": [
        "#resize images to 32,32\n",
        "\n",
        "size = (32, 32)\n",
        "\n",
        "train_dataset = train_dataset.map(lambda x, y: (tf.image.resize(x, size), y))\n",
        "val_dataset = val_dataset.map(lambda x, y: (tf.image.resize(x, size), y))\n",
        "test_dataset = test_dataset.map(lambda x, y: (tf.image.resize(x, size), y))\n",
        "\n",
        "train_size = train_dataset.cardinality().numpy()\n",
        "val_size = val_dataset.cardinality().numpy()"
      ],
      "execution_count": null,
      "outputs": []
    },
    {
      "cell_type": "code",
      "metadata": {
        "id": "yKsepDjuO5KY"
      },
      "source": [
        "BATCH_SIZE = 32\n",
        "SHUFFLE_BUFFER_SIZE = 100\n",
        "\n",
        "train_dataset = train_dataset.shuffle(buffer_size=SHUFFLE_BUFFER_SIZE).batch(BATCH_SIZE)\n",
        "test_dataset = test_dataset.batch(BATCH_SIZE)\n",
        "val_dataset = val_dataset.batch(BATCH_SIZE)"
      ],
      "execution_count": null,
      "outputs": []
    },
    {
      "cell_type": "markdown",
      "metadata": {
        "id": "G7BYRfocGwmd"
      },
      "source": [
        "##Model"
      ]
    },
    {
      "cell_type": "code",
      "metadata": {
        "id": "Ei42s_yfsKNZ"
      },
      "source": [
        "# base_model = tf.keras.applications.Xception(weights='imagenet',  input_shape=(150, 150, 3),  include_top=False)\n",
        "\n",
        "base_model = tf.keras.applications.ResNet50(input_shape=(32, 32, 3),\n",
        "                                               include_top=False,\n",
        "                                               weights='imagenet')\n",
        "\n",
        "# # Freeze base model\n",
        "base_model.trainable = False"
      ],
      "execution_count": null,
      "outputs": []
    },
    {
      "cell_type": "code",
      "metadata": {
        "id": "056jHfb1F3E0"
      },
      "source": [
        "# data_augmentation = tf.keras.Sequential([\n",
        "#   tf.keras.layers.experimental.preprocessing.RandomFlip('horizontal'),\n",
        "#   tf.keras.layers.experimental.preprocessing.RandomRotation(0.2),\n",
        "# ])"
      ],
      "execution_count": null,
      "outputs": []
    },
    {
      "cell_type": "code",
      "metadata": {
        "colab": {
          "base_uri": "https://localhost:8080/"
        },
        "id": "5tQQ9dySMkHS",
        "outputId": "f76587e6-14fd-43dd-817f-a93c34c84ef5"
      },
      "source": [
        "image_batch, label_batch = next(iter(train_dataset))\n",
        "\n",
        "feature_batch = base_model(image_batch)\n",
        "print(feature_batch.shape)"
      ],
      "execution_count": null,
      "outputs": [
        {
          "output_type": "stream",
          "text": [
            "(32, 1, 1, 2048)\n"
          ],
          "name": "stdout"
        }
      ]
    },
    {
      "cell_type": "code",
      "metadata": {
        "colab": {
          "base_uri": "https://localhost:8080/"
        },
        "id": "LnTUlxDCMk5-",
        "outputId": "07e975c4-4003-4cef-90d5-bea4e99311c7"
      },
      "source": [
        "global_average_layer = tf.keras.layers.GlobalAveragePooling2D()\n",
        "feature_batch_average = global_average_layer(feature_batch)\n",
        "print(feature_batch_average.shape)"
      ],
      "execution_count": null,
      "outputs": [
        {
          "output_type": "stream",
          "text": [
            "(32, 2048)\n"
          ],
          "name": "stdout"
        }
      ]
    },
    {
      "cell_type": "code",
      "metadata": {
        "colab": {
          "base_uri": "https://localhost:8080/"
        },
        "id": "40cAXjMaPxK7",
        "outputId": "669ed5e5-9afd-448b-eea9-e347c9ca929e"
      },
      "source": [
        "prediction_layer = tf.keras.layers.Dense(4, activation='softmax')\n",
        "prediction_batch = prediction_layer(feature_batch_average)\n",
        "print(prediction_batch.shape)"
      ],
      "execution_count": null,
      "outputs": [
        {
          "output_type": "stream",
          "text": [
            "(32, 4)\n"
          ],
          "name": "stdout"
        }
      ]
    },
    {
      "cell_type": "code",
      "metadata": {
        "id": "cwhLmAdiC_r_"
      },
      "source": [
        "preprocess_input = tf.keras.applications.resnet50.preprocess_input"
      ],
      "execution_count": null,
      "outputs": []
    },
    {
      "cell_type": "code",
      "metadata": {
        "colab": {
          "base_uri": "https://localhost:8080/"
        },
        "id": "ucA4Pvm-FrZb",
        "outputId": "5f8801db-eb4d-401e-c3c3-24787e68980d"
      },
      "source": [
        "inputs = keras.Input(shape=(32, 32, 3))\n",
        "# x = data_augmentation(inputs)\n",
        "\n",
        "# norm_layer = keras.layers.experimental.preprocessing.Normalization()\n",
        "# mean = np.array([127.5] * 3)\n",
        "# var = mean ** 2\n",
        "# # Scale inputs to [-1, +1]\n",
        "# x = norm_layer(x)\n",
        "# norm_layer.set_weights([mean, var])\n",
        "\n",
        "x = preprocess_input(inputs)\n",
        "x = base_model(x, training=False)\n",
        "x = global_average_layer(x)\n",
        "x = keras.layers.Dropout(0.2)(x)  # Regularize with dropout\n",
        "outputs = prediction_layer(x)\n",
        "model = keras.Model(inputs, outputs)\n",
        "\n",
        "model.summary()"
      ],
      "execution_count": null,
      "outputs": [
        {
          "output_type": "stream",
          "text": [
            "Model: \"model_5\"\n",
            "_________________________________________________________________\n",
            "Layer (type)                 Output Shape              Param #   \n",
            "=================================================================\n",
            "input_11 (InputLayer)        [(None, 32, 32, 3)]       0         \n",
            "_________________________________________________________________\n",
            "tf.__operators__.getitem_5 ( (None, 32, 32, 3)         0         \n",
            "_________________________________________________________________\n",
            "tf.nn.bias_add_5 (TFOpLambda (None, 32, 32, 3)         0         \n",
            "_________________________________________________________________\n",
            "resnet50 (Functional)        (None, 1, 1, 2048)        23587712  \n",
            "_________________________________________________________________\n",
            "global_average_pooling2d_4 ( (None, 2048)              0         \n",
            "_________________________________________________________________\n",
            "dropout_5 (Dropout)          (None, 2048)              0         \n",
            "_________________________________________________________________\n",
            "dense_5 (Dense)              (None, 4)                 8196      \n",
            "=================================================================\n",
            "Total params: 23,595,908\n",
            "Trainable params: 8,196\n",
            "Non-trainable params: 23,587,712\n",
            "_________________________________________________________________\n"
          ],
          "name": "stdout"
        }
      ]
    },
    {
      "cell_type": "code",
      "metadata": {
        "id": "j6TBqJz2GDCS"
      },
      "source": [
        "#train the top layer\n",
        "\n",
        "# lr_schedule = keras.optimizers.schedules.ExponentialDecay(\n",
        "#     initial_learning_rate=1e-2,\n",
        "#     decay_steps=10000,\n",
        "#     decay_rate=0.9)\n",
        "\n",
        "model.compile(\n",
        "    optimizer=keras.optimizers.Adam(learning_rate=0.0001),\n",
        "    loss=keras.losses.CategoricalCrossentropy(from_logits=False, label_smoothing=0.1),\n",
        "    metrics=['accuracy'],\n",
        ")\n",
        "\n",
        "# model.compile(\n",
        "#     optimizer=keras.optimizers.SGD(lr=0.005, momentum=0.9),\n",
        "#     loss=keras.losses.SparseCategoricalCrossentropy(\n",
        "#       from_logits=False, name='sparse_categorical_crossentropy'),\n",
        "#     metrics=['accuracy']\n",
        "# )\n"
      ],
      "execution_count": null,
      "outputs": []
    },
    {
      "cell_type": "code",
      "metadata": {
        "colab": {
          "base_uri": "https://localhost:8080/"
        },
        "id": "KNCY10OPDO-f",
        "outputId": "8b3a880d-1931-4a05-94c3-40b5f723fba8"
      },
      "source": [
        "epochs = 30\n",
        "hist = model.fit(train_dataset, epochs=epochs, validation_data=val_dataset)"
      ],
      "execution_count": null,
      "outputs": [
        {
          "output_type": "stream",
          "text": [
            "Epoch 1/30\n",
            "157/157 [==============================] - 8s 35ms/step - loss: 2.1758 - accuracy: 0.4532 - val_loss: 1.2940 - val_accuracy: 0.6284\n",
            "Epoch 2/30\n",
            "157/157 [==============================] - 5s 29ms/step - loss: 1.6377 - accuracy: 0.5620 - val_loss: 1.1578 - val_accuracy: 0.6720\n",
            "Epoch 3/30\n",
            "157/157 [==============================] - 5s 29ms/step - loss: 1.4536 - accuracy: 0.6050 - val_loss: 1.1011 - val_accuracy: 0.6872\n",
            "Epoch 4/30\n",
            "157/157 [==============================] - 5s 29ms/step - loss: 1.3990 - accuracy: 0.6104 - val_loss: 1.0504 - val_accuracy: 0.6988\n",
            "Epoch 5/30\n",
            "157/157 [==============================] - 5s 29ms/step - loss: 1.3237 - accuracy: 0.6254 - val_loss: 1.0192 - val_accuracy: 0.7042\n",
            "Epoch 6/30\n",
            "157/157 [==============================] - 5s 29ms/step - loss: 1.2764 - accuracy: 0.6416 - val_loss: 1.0065 - val_accuracy: 0.7152\n",
            "Epoch 7/30\n",
            "157/157 [==============================] - 5s 30ms/step - loss: 1.2194 - accuracy: 0.6496 - val_loss: 0.9816 - val_accuracy: 0.7158\n",
            "Epoch 8/30\n",
            "157/157 [==============================] - 5s 30ms/step - loss: 1.1689 - accuracy: 0.6684 - val_loss: 0.9611 - val_accuracy: 0.7226\n",
            "Epoch 9/30\n",
            "157/157 [==============================] - 5s 31ms/step - loss: 1.1447 - accuracy: 0.6668 - val_loss: 0.9389 - val_accuracy: 0.7232\n",
            "Epoch 10/30\n",
            "157/157 [==============================] - 5s 30ms/step - loss: 1.1210 - accuracy: 0.6734 - val_loss: 0.9403 - val_accuracy: 0.7328\n",
            "Epoch 11/30\n",
            "157/157 [==============================] - 5s 30ms/step - loss: 1.0844 - accuracy: 0.6844 - val_loss: 0.9274 - val_accuracy: 0.7344\n",
            "Epoch 12/30\n",
            "157/157 [==============================] - 5s 30ms/step - loss: 1.0631 - accuracy: 0.6846 - val_loss: 0.9159 - val_accuracy: 0.7366\n",
            "Epoch 13/30\n",
            "157/157 [==============================] - 5s 30ms/step - loss: 1.0365 - accuracy: 0.6940 - val_loss: 0.9050 - val_accuracy: 0.7344\n",
            "Epoch 14/30\n",
            "157/157 [==============================] - 5s 31ms/step - loss: 1.0060 - accuracy: 0.7044 - val_loss: 0.9002 - val_accuracy: 0.7388\n",
            "Epoch 15/30\n",
            "157/157 [==============================] - 5s 30ms/step - loss: 0.9852 - accuracy: 0.7160 - val_loss: 0.8901 - val_accuracy: 0.7400\n",
            "Epoch 16/30\n",
            "157/157 [==============================] - 5s 30ms/step - loss: 0.9714 - accuracy: 0.7144 - val_loss: 0.8871 - val_accuracy: 0.7442\n",
            "Epoch 17/30\n",
            "157/157 [==============================] - 5s 31ms/step - loss: 0.9474 - accuracy: 0.7232 - val_loss: 0.8869 - val_accuracy: 0.7474\n",
            "Epoch 18/30\n",
            "157/157 [==============================] - 5s 30ms/step - loss: 0.9451 - accuracy: 0.7250 - val_loss: 0.8809 - val_accuracy: 0.7494\n",
            "Epoch 19/30\n",
            "157/157 [==============================] - 5s 29ms/step - loss: 0.9165 - accuracy: 0.7328 - val_loss: 0.8751 - val_accuracy: 0.7510\n",
            "Epoch 20/30\n",
            "157/157 [==============================] - 5s 29ms/step - loss: 0.9123 - accuracy: 0.7328 - val_loss: 0.8707 - val_accuracy: 0.7516\n",
            "Epoch 21/30\n",
            "157/157 [==============================] - 5s 29ms/step - loss: 0.8959 - accuracy: 0.7494 - val_loss: 0.8684 - val_accuracy: 0.7502\n",
            "Epoch 22/30\n",
            "157/157 [==============================] - 5s 29ms/step - loss: 0.8734 - accuracy: 0.7494 - val_loss: 0.8656 - val_accuracy: 0.7550\n",
            "Epoch 23/30\n",
            "157/157 [==============================] - 5s 29ms/step - loss: 0.8755 - accuracy: 0.7490 - val_loss: 0.8653 - val_accuracy: 0.7532\n",
            "Epoch 24/30\n",
            "157/157 [==============================] - 5s 29ms/step - loss: 0.8673 - accuracy: 0.7492 - val_loss: 0.8614 - val_accuracy: 0.7560\n",
            "Epoch 25/30\n",
            "157/157 [==============================] - 5s 29ms/step - loss: 0.8618 - accuracy: 0.7500 - val_loss: 0.8563 - val_accuracy: 0.7560\n",
            "Epoch 26/30\n",
            "157/157 [==============================] - 5s 32ms/step - loss: 0.8559 - accuracy: 0.7628 - val_loss: 0.8562 - val_accuracy: 0.7588\n",
            "Epoch 27/30\n",
            "157/157 [==============================] - 5s 33ms/step - loss: 0.8418 - accuracy: 0.7640 - val_loss: 0.8521 - val_accuracy: 0.7562\n",
            "Epoch 28/30\n",
            "157/157 [==============================] - 5s 31ms/step - loss: 0.8264 - accuracy: 0.7690 - val_loss: 0.8489 - val_accuracy: 0.7596\n",
            "Epoch 29/30\n",
            "157/157 [==============================] - 5s 31ms/step - loss: 0.8267 - accuracy: 0.7628 - val_loss: 0.8493 - val_accuracy: 0.7604\n",
            "Epoch 30/30\n",
            "157/157 [==============================] - 5s 30ms/step - loss: 0.8192 - accuracy: 0.7668 - val_loss: 0.8483 - val_accuracy: 0.7606\n"
          ],
          "name": "stdout"
        }
      ]
    },
    {
      "cell_type": "code",
      "metadata": {
        "colab": {
          "base_uri": "https://localhost:8080/",
          "height": 558
        },
        "id": "W6iG49XK_k7D",
        "outputId": "09f6d361-58ac-481b-e69f-2926cc6b153f"
      },
      "source": [
        "plt.figure()\n",
        "plt.ylabel(\"Loss (training and validation)\")\n",
        "plt.xlabel(\"Training Steps\")\n",
        "plt.plot(hist.history[\"loss\"], label='Training Loss')\n",
        "plt.plot(hist.history[\"val_loss\"], label='Validation Loss')\n",
        "plt.legend(loc='upper right')\n",
        "\n",
        "plt.figure()\n",
        "plt.ylabel(\"Accuracy (training and validation)\")\n",
        "plt.xlabel(\"Training Steps\")\n",
        "plt.plot(hist.history[\"accuracy\"], label='Training Accuracy')\n",
        "plt.plot(hist.history[\"val_accuracy\"], label='Validation Accuracy')\n",
        "plt.legend(loc='lower right')"
      ],
      "execution_count": null,
      "outputs": [
        {
          "output_type": "execute_result",
          "data": {
            "text/plain": [
              "<matplotlib.legend.Legend at 0x7f1c7e1c9610>"
            ]
          },
          "metadata": {
            "tags": []
          },
          "execution_count": 81
        },
        {
          "output_type": "display_data",
          "data": {
            "image/png": "[encoded data removed]",
            "text/plain": [
              "<Figure size 432x288 with 1 Axes>"
            ]
          },
          "metadata": {
            "tags": [],
            "needs_background": "light"
          }
        },
        {
          "output_type": "display_data",
          "data": {
            "image/png": "[encoded data removed]",
            "text/plain": [
              "<Figure size 432x288 with 1 Axes>"
            ]
          },
          "metadata": {
            "tags": [],
            "needs_background": "light"
          }
        }
      ]
    },
    {
      "cell_type": "markdown",
      "metadata": {
        "id": "T2bOy89-KMXc"
      },
      "source": [
        "## Fine Tuning"
      ]
    },
    {
      "cell_type": "code",
      "metadata": {
        "id": "Iv5VAVz5KLt7"
      },
      "source": [
        "base_model.trainable = True"
      ],
      "execution_count": null,
      "outputs": []
    },
    {
      "cell_type": "code",
      "metadata": {
        "colab": {
          "base_uri": "https://localhost:8080/"
        },
        "id": "3D0FK1HELFP6",
        "outputId": "b0de810b-3078-4c2d-b79b-ec241b96d869"
      },
      "source": [
        "print(\"Number of layers in the base model: \", len(base_model.layers))"
      ],
      "execution_count": null,
      "outputs": [
        {
          "output_type": "stream",
          "text": [
            "Number of layers in the base model:  175\n"
          ],
          "name": "stdout"
        }
      ]
    },
    {
      "cell_type": "code",
      "metadata": {
        "id": "aIzyNTQiLKjo"
      },
      "source": [
        "# Fine-tune from this layer onwards\n",
        "fine_tune_at = 100\n",
        "\n",
        "# Freeze all the layers before the `fine_tune_at` layer\n",
        "for layer in base_model.layers[:fine_tune_at]:\n",
        "  layer.trainable =  False"
      ],
      "execution_count": null,
      "outputs": []
    },
    {
      "cell_type": "code",
      "metadata": {
        "id": "vBtm_kneLMZG"
      },
      "source": [
        "model.compile(loss=tf.keras.losses.CategoricalCrossentropy(from_logits=False, label_smoothing=0.1),\n",
        "              optimizer = tf.keras.optimizers.RMSprop(learning_rate=0.00001),\n",
        "              metrics=['accuracy'])"
      ],
      "execution_count": null,
      "outputs": []
    },
    {
      "cell_type": "code",
      "metadata": {
        "colab": {
          "base_uri": "https://localhost:8080/"
        },
        "id": "YU2hhu7oLaxK",
        "outputId": "38ad52eb-89e6-4f40-8550-c38a5b4e57fe"
      },
      "source": [
        "len(model.trainable_variables)\n"
      ],
      "execution_count": null,
      "outputs": [
        {
          "output_type": "execute_result",
          "data": {
            "text/plain": [
              "92"
            ]
          },
          "metadata": {
            "tags": []
          },
          "execution_count": 86
        }
      ]
    },
    {
      "cell_type": "code",
      "metadata": {
        "colab": {
          "base_uri": "https://localhost:8080/"
        },
        "id": "F-Ae2F3GLiUm",
        "outputId": "1500da35-0284-425f-bb4a-c1941ee62e41"
      },
      "source": [
        "fine_tune_epochs = 10\n",
        "total_epochs =  epochs + fine_tune_epochs\n",
        "\n",
        "hist_fine = model.fit(train_dataset,\n",
        "                         epochs=total_epochs,\n",
        "                         initial_epoch=hist.epoch[-1],\n",
        "                         validation_data=val_dataset)"
      ],
      "execution_count": null,
      "outputs": [
        {
          "output_type": "stream",
          "text": [
            "Epoch 30/40\n",
            "157/157 [==============================] - 17s 63ms/step - loss: 0.8158 - accuracy: 0.7722 - val_loss: 0.8365 - val_accuracy: 0.7712\n",
            "Epoch 31/40\n",
            "157/157 [==============================] - 9s 55ms/step - loss: 0.7377 - accuracy: 0.8106 - val_loss: 0.8186 - val_accuracy: 0.7806\n",
            "Epoch 32/40\n",
            "157/157 [==============================] - 8s 52ms/step - loss: 0.6815 - accuracy: 0.8448 - val_loss: 0.8246 - val_accuracy: 0.7850\n",
            "Epoch 33/40\n",
            "157/157 [==============================] - 8s 52ms/step - loss: 0.6387 - accuracy: 0.8672 - val_loss: 0.8240 - val_accuracy: 0.7854\n",
            "Epoch 34/40\n",
            "157/157 [==============================] - 9s 54ms/step - loss: 0.6069 - accuracy: 0.8816 - val_loss: 0.8222 - val_accuracy: 0.7860\n",
            "Epoch 35/40\n",
            "157/157 [==============================] - 9s 57ms/step - loss: 0.5788 - accuracy: 0.8984 - val_loss: 0.8238 - val_accuracy: 0.7888\n",
            "Epoch 36/40\n",
            "157/157 [==============================] - 9s 56ms/step - loss: 0.5494 - accuracy: 0.9122 - val_loss: 0.8330 - val_accuracy: 0.7782\n",
            "Epoch 37/40\n",
            "157/157 [==============================] - 9s 56ms/step - loss: 0.5219 - accuracy: 0.9330 - val_loss: 0.8369 - val_accuracy: 0.7918\n",
            "Epoch 38/40\n",
            "157/157 [==============================] - 8s 53ms/step - loss: 0.4991 - accuracy: 0.9472 - val_loss: 0.8181 - val_accuracy: 0.7898\n",
            "Epoch 39/40\n",
            "157/157 [==============================] - 9s 56ms/step - loss: 0.4847 - accuracy: 0.9556 - val_loss: 0.8417 - val_accuracy: 0.7936\n",
            "Epoch 40/40\n",
            "157/157 [==============================] - 8s 52ms/step - loss: 0.4659 - accuracy: 0.9634 - val_loss: 0.8263 - val_accuracy: 0.7888\n"
          ],
          "name": "stdout"
        }
      ]
    },
    {
      "cell_type": "code",
      "metadata": {
        "colab": {
          "base_uri": "https://localhost:8080/",
          "height": 558
        },
        "id": "lP4J3jlJNe9a",
        "outputId": "25aa9816-09c6-4c30-a02a-678a9185a9df"
      },
      "source": [
        "plt.figure()\n",
        "plt.ylabel(\"Loss (training and validation)\")\n",
        "plt.xlabel(\"Training Steps\")\n",
        "plt.plot(hist_fine.history[\"loss\"], label='Training Loss')\n",
        "plt.plot(hist_fine.history[\"val_loss\"], label='Validation Loss')\n",
        "plt.legend(loc='upper right')\n",
        "\n",
        "plt.figure()\n",
        "plt.ylabel(\"Accuracy (training and validation)\")\n",
        "plt.xlabel(\"Training Steps\")\n",
        "plt.plot(hist_fine.history[\"accuracy\"], label='Training Accuracy')\n",
        "plt.plot(hist_fine.history[\"val_accuracy\"], label='Validation Accuracy')\n",
        "plt.legend(loc='lower right')"
      ],
      "execution_count": null,
      "outputs": [
        {
          "output_type": "execute_result",
          "data": {
            "text/plain": [
              "<matplotlib.legend.Legend at 0x7f1c5c0add10>"
            ]
          },
          "metadata": {
            "tags": []
          },
          "execution_count": 88
        },
        {
          "output_type": "display_data",
          "data": {
            "image/png": "[encoded data removed]",
            "text/plain": [
              "<Figure size 432x288 with 1 Axes>"
            ]
          },
          "metadata": {
            "tags": [],
            "needs_background": "light"
          }
        },
        {
          "output_type": "display_data",
          "data": {
            "image/png": "[encoded data removed]",
            "text/plain": [
              "<Figure size 432x288 with 1 Axes>"
            ]
          },
          "metadata": {
            "tags": [],
            "needs_background": "light"
          }
        }
      ]
    }
  ]
}